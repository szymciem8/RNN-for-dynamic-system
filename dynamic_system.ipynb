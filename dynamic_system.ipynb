{
 "cells": [
  {
   "cell_type": "markdown",
   "id": "ae9b00ab-7589-46c4-8a7f-36ea57e81624",
   "metadata": {},
   "source": [
    "# Install packages"
   ]
  },
  {
   "cell_type": "code",
   "execution_count": 21,
   "id": "08a9f3b9-d5ab-4784-9a2c-22d5bc4a90e3",
   "metadata": {},
   "outputs": [
    {
     "name": "stdout",
     "output_type": "stream",
     "text": [
      "Requirement already satisfied: sympy in ./.env/lib/python3.8/site-packages (1.11.1)\n",
      "Collecting matplotlib\n",
      "  Downloading matplotlib-3.6.0-cp38-cp38-manylinux_2_12_x86_64.manylinux2010_x86_64.whl (9.4 MB)\n",
      "\u001b[K     |████████████████████████████████| 9.4 MB 3.1 MB/s eta 0:00:01\n",
      "\u001b[?25hRequirement already satisfied: mpmath>=0.19 in ./.env/lib/python3.8/site-packages (from sympy) (1.2.1)\n",
      "Collecting numpy>=1.19\n",
      "  Downloading numpy-1.23.3-cp38-cp38-manylinux_2_17_x86_64.manylinux2014_x86_64.whl (17.1 MB)\n",
      "\u001b[K     |████████████████████████████████| 17.1 MB 563 kB/s eta 0:00:01\n",
      "\u001b[?25hRequirement already satisfied: python-dateutil>=2.7 in ./.env/lib/python3.8/site-packages (from matplotlib) (2.8.2)\n",
      "Collecting contourpy>=1.0.1\n",
      "  Downloading contourpy-1.0.5-cp38-cp38-manylinux_2_17_x86_64.manylinux2014_x86_64.whl (295 kB)\n",
      "\u001b[K     |████████████████████████████████| 295 kB 6.0 MB/s eta 0:00:01\n",
      "\u001b[?25hRequirement already satisfied: packaging>=20.0 in ./.env/lib/python3.8/site-packages (from matplotlib) (21.3)\n",
      "Collecting pillow>=6.2.0\n",
      "  Using cached Pillow-9.2.0-cp38-cp38-manylinux_2_17_x86_64.manylinux2014_x86_64.whl (3.1 MB)\n",
      "Requirement already satisfied: pyparsing>=2.2.1 in ./.env/lib/python3.8/site-packages (from matplotlib) (3.0.9)\n",
      "Collecting cycler>=0.10\n",
      "  Using cached cycler-0.11.0-py3-none-any.whl (6.4 kB)\n",
      "Collecting fonttools>=4.22.0\n",
      "  Downloading fonttools-4.37.2-py3-none-any.whl (959 kB)\n",
      "\u001b[K     |████████████████████████████████| 959 kB 5.9 MB/s eta 0:00:01\n",
      "\u001b[?25hCollecting kiwisolver>=1.0.1\n",
      "  Using cached kiwisolver-1.4.4-cp38-cp38-manylinux_2_5_x86_64.manylinux1_x86_64.whl (1.2 MB)\n",
      "Requirement already satisfied: six>=1.5 in ./.env/lib/python3.8/site-packages (from python-dateutil>=2.7->matplotlib) (1.16.0)\n",
      "Installing collected packages: numpy, contourpy, pillow, cycler, fonttools, kiwisolver, matplotlib\n",
      "Successfully installed contourpy-1.0.5 cycler-0.11.0 fonttools-4.37.2 kiwisolver-1.4.4 matplotlib-3.6.0 numpy-1.23.3 pillow-9.2.0\n"
     ]
    }
   ],
   "source": [
    "! pip3 install sympy matplotlib"
   ]
  },
  {
   "cell_type": "code",
   "execution_count": 1,
   "id": "b8587aad-692b-4c5d-8e41-c38cc5e8275b",
   "metadata": {},
   "outputs": [],
   "source": [
    "import sympy as sym\n",
    "from sympy.abc import s, t, y, x, y, z\n",
    "from sympy.integrals import laplace_transform\n",
    "from sympy.integrals import inverse_laplace_transform"
   ]
  },
  {
   "cell_type": "code",
   "execution_count": 2,
   "id": "ab601c78-17b6-4e0e-a6a7-fe99fe1c4e7f",
   "metadata": {},
   "outputs": [
    {
     "data": {
      "text/latex": [
       "$\\displaystyle \\frac{5}{s^{2}}$"
      ],
      "text/plain": [
       "5/s**2"
      ]
     },
     "execution_count": 2,
     "metadata": {},
     "output_type": "execute_result"
    }
   ],
   "source": [
    "U = laplace_transform(5*t, t, s)\n",
    "U[0]"
   ]
  },
  {
   "cell_type": "code",
   "execution_count": 3,
   "id": "675328a2-85f6-4ac3-8613-0e6382bab76f",
   "metadata": {},
   "outputs": [
    {
     "data": {
      "text/latex": [
       "$\\displaystyle 5 t \\theta\\left(t\\right)$"
      ],
      "text/plain": [
       "5*t*Heaviside(t)"
      ]
     },
     "execution_count": 3,
     "metadata": {},
     "output_type": "execute_result"
    }
   ],
   "source": [
    "inverse_laplace_transform(U[0], s, t)"
   ]
  },
  {
   "cell_type": "code",
   "execution_count": 4,
   "id": "a905386a-ee0d-4c6b-a7e6-556e89a0a4cd",
   "metadata": {},
   "outputs": [
    {
     "data": {
      "text/latex": [
       "$\\displaystyle \\frac{5 s + 5}{\\left(s + 3\\right)^{2}}$"
      ],
      "text/plain": [
       "(5*s + 5)/(s + 3)**2"
      ]
     },
     "execution_count": 4,
     "metadata": {},
     "output_type": "execute_result"
    }
   ],
   "source": [
    "F = 5*(s+1)/(s+3)**2\n",
    "F"
   ]
  },
  {
   "cell_type": "code",
   "execution_count": 5,
   "id": "fe89f610-caeb-403f-acd1-65046ed81c80",
   "metadata": {},
   "outputs": [
    {
     "data": {
      "text/latex": [
       "$\\displaystyle \\frac{5}{s + 3} - \\frac{10}{\\left(s + 3\\right)^{2}}$"
      ],
      "text/plain": [
       "5/(s + 3) - 10/(s + 3)**2"
      ]
     },
     "execution_count": 5,
     "metadata": {},
     "output_type": "execute_result"
    }
   ],
   "source": [
    "sym.apart(F)"
   ]
  },
  {
   "cell_type": "code",
   "execution_count": 6,
   "id": "b4f0aef7-ba6e-499f-b05e-cfe7a1bf711d",
   "metadata": {},
   "outputs": [
    {
     "data": {
      "text/latex": [
       "$\\displaystyle \\left(s + 1\\right) \\left(s + 3\\right) \\left(s^{2} + 3 s + 1\\right)$"
      ],
      "text/plain": [
       "(s + 1)*(s + 3)*(s**2 + 3*s + 1)"
      ]
     },
     "execution_count": 6,
     "metadata": {},
     "output_type": "execute_result"
    }
   ],
   "source": [
    "d1 = (s+1)*(s+3)*(s**2+3*s+1)\n",
    "d1"
   ]
  },
  {
   "cell_type": "code",
   "execution_count": 7,
   "id": "252e3648-b5ed-425f-b342-9943c8307755",
   "metadata": {},
   "outputs": [
    {
     "data": {
      "text/latex": [
       "$\\displaystyle s^{4} + 7 s^{3} + 16 s^{2} + 13 s + 3$"
      ],
      "text/plain": [
       "s**4 + 7*s**3 + 16*s**2 + 13*s + 3"
      ]
     },
     "execution_count": 7,
     "metadata": {},
     "output_type": "execute_result"
    }
   ],
   "source": [
    "d2=sym.expand(d1)\n",
    "d2"
   ]
  },
  {
   "cell_type": "code",
   "execution_count": 8,
   "id": "2e93eceb-ddcd-4fb5-baa5-68ade90b1b96",
   "metadata": {},
   "outputs": [
    {
     "data": {
      "text/plain": [
       "{-1: 1, -3: 1, -3/2 - sqrt(5)/2: 1, -3/2 + sqrt(5)/2: 1}"
      ]
     },
     "execution_count": 8,
     "metadata": {},
     "output_type": "execute_result"
    }
   ],
   "source": [
    "sym.roots(d2)"
   ]
  },
  {
   "cell_type": "code",
   "execution_count": 9,
   "id": "e5464f96-88ef-4656-8ee4-b270eec8bbc4",
   "metadata": {},
   "outputs": [],
   "source": [
    "import matplotlib.pyplot as plt\n",
    "import numpy as np\n",
    "import timeit"
   ]
  },
  {
   "cell_type": "code",
   "execution_count": 14,
   "id": "c08b9f2e-c1e1-40e3-9faf-9995134a0ed8",
   "metadata": {},
   "outputs": [
    {
     "name": "stdout",
     "output_type": "stream",
     "text": [
      "Time:  0.8442832870005077\n"
     ]
    },
    {
     "data": {
      "image/png": "[encoded data removed]",
      "text/plain": [
       "<Figure size 640x480 with 1 Axes>"
      ]
     },
     "metadata": {},
     "output_type": "display_data"
    }
   ],
   "source": [
    "# Individual inputs\n",
    "# U1 = 2/s*sym.exp(-s)\n",
    "# U2 = -1/s**2*sym.exp(-3*s)\n",
    "# U3 = 1/s**2*sym.exp(-5*s)\n",
    "\n",
    "U1 = -1/s*sym.exp(-3*s)\n",
    "U2 = 2/s\n",
    "U3 = 3/s*sym.exp(-1*s)\n",
    "\n",
    "# U = U1 * U2 * U3\n",
    "\n",
    "# Transfer function\n",
    "G = 5*(s+1)/((s+3)*(s+2))\n",
    "\n",
    "# Response\n",
    "# Y = G * U\n",
    "Y1 = G * U1\n",
    "Y2 = G * U2\n",
    "Y3 = G * U3\n",
    "\n",
    "#Inverse Laplace Transform\n",
    "start = timeit.default_timer()\n",
    "u1 = inverse_laplace_transform(U1, s, t)\n",
    "u2 = inverse_laplace_transform(U2, s, t)\n",
    "u3 = inverse_laplace_transform(U3, s, t)\n",
    "\n",
    "y1 = inverse_laplace_transform(Y1, s, t)\n",
    "y2 = inverse_laplace_transform(Y2, s, t)\n",
    "y3 = inverse_laplace_transform(Y3, s, t)\n",
    "stop = timeit.default_timer()\n",
    "print('Time: ', stop - start)  \n",
    "# y1\n",
    "\n",
    "# Generate data for plot\n",
    "tm = np.linspace(0,8,100)\n",
    "us = np.zeros(len(tm))\n",
    "ys = np.zeros(len(tm))\n",
    "\n",
    "for u in [u1, u2, u3]:\n",
    "    for i in range(len(tm)):\n",
    "        us[i] += u.subs(t, tm[i])\n",
    "\n",
    "for y in [y1, y2, y3]:\n",
    "    for i in range(len(tm)):\n",
    "        ys[i] += y.subs(t, tm[i])\n",
    "\n",
    "plt.figure()\n",
    "plt.plot(tm, us)\n",
    "plt.plot(tm, ys)\n",
    "plt.show()"
   ]
  },
  {
   "cell_type": "code",
   "execution_count": 185,
   "id": "849da436-20ee-40bb-a382-419d1d6137c7",
   "metadata": {},
   "outputs": [
    {
     "data": {
      "text/latex": [
       "$\\displaystyle 5 \\delta\\left(t\\right) - 10 e^{- 3 t} \\theta\\left(t\\right)$"
      ],
      "text/plain": [
       "5*DiracDelta(t) - 10*exp(-3*t)*Heaviside(t)"
      ]
     },
     "execution_count": 185,
     "metadata": {},
     "output_type": "execute_result"
    }
   ],
   "source": [
    "inverse_laplace_transform(G, s, t)"
   ]
  },
  {
   "cell_type": "code",
   "execution_count": 103,
   "id": "4e9f2bc9-f9bf-4e83-8022-8b3213b6c324",
   "metadata": {},
   "outputs": [
    {
     "data": {
      "text/latex": [
       "$\\displaystyle \\frac{5 \\left(e^{3 t} + 2\\right) e^{- 3 t} \\theta\\left(t\\right)}{3}$"
      ],
      "text/plain": [
       "5*(exp(3*t) + 2)*exp(-3*t)*Heaviside(t)/3"
      ]
     },
     "execution_count": 103,
     "metadata": {},
     "output_type": "execute_result"
    }
   ],
   "source": [
    "y1"
   ]
  },
  {
   "cell_type": "code",
   "execution_count": 105,
   "id": "c41d26b0-d952-480a-866b-982b5e2c98b5",
   "metadata": {},
   "outputs": [
    {
     "data": {
      "text/latex": [
       "$\\displaystyle \\frac{5 \\left(- e^{3 t} - 2\\right) e^{- 3 t} \\theta\\left(t\\right)}{3}$"
      ],
      "text/plain": [
       "5*(-exp(3*t) - 2)*exp(-3*t)*Heaviside(t)/3"
      ]
     },
     "execution_count": 105,
     "metadata": {},
     "output_type": "execute_result"
    }
   ],
   "source": [
    "y1"
   ]
  },
  {
   "cell_type": "code",
   "execution_count": 93,
   "id": "5cdc8d5f-0d19-4fa4-b6e6-07eecdec5a84",
   "metadata": {},
   "outputs": [
    {
     "data": {
      "text/latex": [
       "$\\displaystyle \\frac{20 \\cdot \\left(1196 + e^{300}\\right)}{e^{300}}$"
      ],
      "text/plain": [
       "20*(1196 + exp(300))*exp(-300)"
      ]
     },
     "execution_count": 93,
     "metadata": {},
     "output_type": "execute_result"
    }
   ],
   "source": [
    "12 * y1.subs(t, 100)"
   ]
  },
  {
   "cell_type": "code",
   "execution_count": 78,
   "id": "e65f4707-3e2f-4db9-9a14-fb5402f7dabf",
   "metadata": {},
   "outputs": [
    {
     "data": {
      "text/plain": [
       "sympy.core.mul.Mul"
      ]
     },
     "execution_count": 78,
     "metadata": {},
     "output_type": "execute_result"
    }
   ],
   "source": [
    "type(y2)"
   ]
  },
  {
   "cell_type": "code",
   "execution_count": 79,
   "id": "18d720f5-b22b-426a-984a-aa10881b62e3",
   "metadata": {},
   "outputs": [
    {
     "data": {
      "text/plain": [
       "sympy.core.mul.Mul"
      ]
     },
     "execution_count": 79,
     "metadata": {},
     "output_type": "execute_result"
    }
   ],
   "source": [
    "type(G)"
   ]
  },
  {
   "cell_type": "code",
   "execution_count": 61,
   "id": "d9666f34-08e2-49b2-b179-7035b1bb7106",
   "metadata": {},
   "outputs": [
    {
     "data": {
      "text/latex": [
       "$\\displaystyle \\frac{5 \\cdot \\left(6 t + e^{3 t} - 1\\right) e^{- 3 t} \\theta\\left(t\\right)}{3}$"
      ],
      "text/plain": [
       "5*(6*t + exp(3*t) - 1)*exp(-3*t)*Heaviside(t)/3"
      ]
     },
     "execution_count": 61,
     "metadata": {},
     "output_type": "execute_result"
    }
   ],
   "source": [
    "y3"
   ]
  },
  {
   "cell_type": "code",
   "execution_count": 8,
   "id": "ea59e928-571f-4f02-942f-b21663f7254f",
   "metadata": {},
   "outputs": [
    {
     "name": "stdout",
     "output_type": "stream",
     "text": [
      "JupyterLab v3.4.2\n",
      "/home/szymciem/.local/share/jupyter/labextensions\n",
      "        @jupyter-widgets/jupyterlab-manager v3.1.1 \u001b[32menabled\u001b[0m \u001b[32mOK\u001b[0m (python, jupyterlab_widgets)\n",
      "\n",
      "/usr/local/share/jupyter/labextensions\n",
      "        jupyterlab_pygments v0.2.2 \u001b[32menabled\u001b[0m \u001b[32mOK\u001b[0m (python, jupyterlab_pygments)\n",
      "\n"
     ]
    }
   ],
   "source": [
    "!jupyter labextension list"
   ]
  },
  {
   "cell_type": "code",
   "execution_count": 10,
   "id": "282a485c-ec0a-41c9-ba76-2bdcef43b277",
   "metadata": {},
   "outputs": [
    {
     "name": "stdout",
     "output_type": "stream",
     "text": [
      "An error occurred.\n",
      "PermissionError: [Errno 13] Permission denied: '/usr/local/share/jupyter/lab/extensions'\n",
      "See the log file for details:  /tmp/jupyterlab-debug-6w55uwlp.log\n"
     ]
    }
   ],
   "source": [
    "!jupyter labextension install jupyter-matplotlib"
   ]
  },
  {
   "cell_type": "code",
   "execution_count": 11,
   "id": "51678607-79ef-42e5-a700-a51c7a9f9c4e",
   "metadata": {},
   "outputs": [
    {
     "name": "stdout",
     "output_type": "stream",
     "text": [
      "/bin/bash: jupyterlab: command not found\n"
     ]
    }
   ],
   "source": [
    "!jupyterlab && jupyter labextension update --all"
   ]
  },
  {
   "cell_type": "code",
   "execution_count": 1,
   "id": "c783b777-72a5-42ef-8059-fbddddd45e64",
   "metadata": {},
   "outputs": [],
   "source": [
    "try:\n",
    "    import piplite\n",
    "    await piplite.install(['ipywidgets'])\n",
    "except ImportError:\n",
    "    pass"
   ]
  },
  {
   "cell_type": "code",
   "execution_count": 2,
   "id": "237fcc7a-baad-44bb-a508-e21dda465d90",
   "metadata": {},
   "outputs": [],
   "source": [
    "from IPython.display import display, Markdown, clear_output\n",
    "import ipywidgets as widgets"
   ]
  },
  {
   "cell_type": "code",
   "execution_count": 7,
   "id": "a18ce879-7012-4535-ad15-2f91fc27bef7",
   "metadata": {},
   "outputs": [
    {
     "data": {
      "application/vnd.jupyter.widget-view+json": {
       "model_id": "ae16ee3d855042fab5010110abb645ad",
       "version_major": 2,
       "version_minor": 0
      },
      "text/plain": [
       "FloatSlider(value=7.5, continuous_update=False, description='Test:', max=10.0, orientation='vertical', readout…"
      ]
     },
     "execution_count": 7,
     "metadata": {},
     "output_type": "execute_result"
    }
   ],
   "source": [
    "widgets.FloatSlider(\n",
    "    value=7.5,\n",
    "    min=0,\n",
    "    max=10.0,\n",
    "    step=0.1,\n",
    "    description='Test:',\n",
    "    disabled=False,\n",
    "    continuous_update=False,\n",
    "    orientation='vertical',\n",
    "    readout=True,\n",
    "    readout_format='.1f',\n",
    ")"
   ]
  },
  {
   "cell_type": "code",
   "execution_count": 3,
   "id": "99b0d288-4453-494d-bf3b-7553c62dbb7b",
   "metadata": {},
   "outputs": [
    {
     "data": {
      "application/vnd.jupyter.widget-view+json": {
       "model_id": "271a20fa939c4e39bd44f8af928d7f94",
       "version_major": 2,
       "version_minor": 0
      },
      "text/plain": [
       "IntSlider(value=0)"
      ]
     },
     "execution_count": 3,
     "metadata": {},
     "output_type": "execute_result"
    }
   ],
   "source": [
    "widgets.IntSlider()"
   ]
  },
  {
   "cell_type": "code",
   "execution_count": 4,
   "id": "fdd90368-2454-4c27-9285-686a06c09935",
   "metadata": {},
   "outputs": [
    {
     "data": {
      "text/plain": [
       "['_dom_classes',\n",
       " '_model_module',\n",
       " '_model_module_version',\n",
       " '_model_name',\n",
       " '_view_count',\n",
       " '_view_module',\n",
       " '_view_module_version',\n",
       " '_view_name',\n",
       " 'behavior',\n",
       " 'continuous_update',\n",
       " 'description',\n",
       " 'description_allow_html',\n",
       " 'disabled',\n",
       " 'layout',\n",
       " 'max',\n",
       " 'min',\n",
       " 'orientation',\n",
       " 'readout',\n",
       " 'readout_format',\n",
       " 'step',\n",
       " 'style',\n",
       " 'tabbable',\n",
       " 'tooltip',\n",
       " 'value']"
      ]
     },
     "execution_count": 4,
     "metadata": {},
     "output_type": "execute_result"
    }
   ],
   "source": [
    "widgets.IntSlider().keys"
   ]
  },
  {
   "cell_type": "code",
   "execution_count": 5,
   "id": "fbdbef43-f3c2-4748-bfe3-489c659922ef",
   "metadata": {},
   "outputs": [
    {
     "data": {
      "application/vnd.jupyter.widget-view+json": {
       "model_id": "9fc2787227aa4092a7167bf22644d4f1",
       "version_major": 2,
       "version_minor": 0
      },
      "text/plain": [
       "IntSlider(value=0)"
      ]
     },
     "execution_count": 5,
     "metadata": {},
     "output_type": "execute_result"
    }
   ],
   "source": [
    "widgets.IntSlider(stea=2)"
   ]
  },
  {
   "cell_type": "code",
   "execution_count": 28,
   "id": "7f153446-972e-4f88-bbbb-257202a32456",
   "metadata": {},
   "outputs": [
    {
     "data": {
      "application/vnd.jupyter.widget-view+json": {
       "model_id": "05fd0a5c164044f88c5d4c01df31d25e",
       "version_major": 2,
       "version_minor": 0
      },
      "text/plain": [
       "interactive(children=(FloatSlider(value=1.0, description='a', max=5.0, min=-5.0, step=0.01), FloatSlider(value…"
      ]
     },
     "metadata": {},
     "output_type": "display_data"
    }
   ],
   "source": [
    "@widgets.interact(a=(-5, 5, 0.01), b=(-5, 5, 0.01))\n",
    "def sine_wave(a=1, b=1):\n",
    "    x = np.linspace(-10,10,1000)\n",
    "    y = b*np.sin(a*x)\n",
    "    \n",
    "    plt.figure()\n",
    "    \n",
    "    plt.xlim(-10, 10)\n",
    "    plt.ylim(-10, 10)\n",
    "    \n",
    "    plt.plot(x, y)\n",
    "    plt.show()"
   ]
  },
  {
   "cell_type": "code",
   "execution_count": 46,
   "id": "90297cae-3172-448b-bf64-016bb9e44637",
   "metadata": {},
   "outputs": [],
   "source": [
    "x = np.linspace(-10,10,1000)\n",
    "def sine_wave(t=0, freq=1):\n",
    "    y = np.sin(freq*x+0.1*t)\n",
    "    plt.xlim(-10, 10)\n",
    "    plt.plot(x,y)"
   ]
  },
  {
   "cell_type": "code",
   "execution_count": 48,
   "id": "29c18c3f-39a1-462e-9daf-41c8d80f7a3f",
   "metadata": {},
   "outputs": [
    {
     "data": {
      "application/vnd.jupyter.widget-view+json": {
       "model_id": "990ea8f74c0042809105121ff5c5f601",
       "version_major": 2,
       "version_minor": 0
      },
      "text/plain": [
       "interactive(children=(Play(value=0, description='t', max=200), FloatSlider(value=1.0, description='freq', max=…"
      ]
     },
     "metadata": {},
     "output_type": "display_data"
    },
    {
     "data": {
      "text/plain": [
       "<function __main__.sine_wave(t=0, freq=1)>"
      ]
     },
     "execution_count": 48,
     "metadata": {},
     "output_type": "execute_result"
    }
   ],
   "source": [
    "widgets.interact(sine_wave, t=widgets.Play(min=0, max=200, step=0.001), freq=(1, 5, 0.01))"
   ]
  },
  {
   "cell_type": "code",
   "execution_count": 53,
   "id": "2ff6672e-de5b-442c-8864-dce73b2b35c2",
   "metadata": {},
   "outputs": [
    {
     "data": {
      "text/latex": [
       "$\\displaystyle 3 \\theta\\left(t\\right)$"
      ],
      "text/plain": [
       "3*Heaviside(t)"
      ]
     },
     "execution_count": 53,
     "metadata": {},
     "output_type": "execute_result"
    }
   ],
   "source": [
    "inverse_laplace_transform(3/s, s, t)"
   ]
  },
  {
   "cell_type": "code",
   "execution_count": 153,
   "id": "197e3147-f795-47a0-b608-c4efa1d86260",
   "metadata": {},
   "outputs": [],
   "source": [
    "from sympy.abc import s, t, y, x, y, z\n",
    "from sympy.integrals import laplace_transform\n",
    "from sympy.integrals import inverse_laplace_transform"
   ]
  },
  {
   "cell_type": "code",
   "execution_count": 154,
   "id": "e6ef8da0-0def-40f7-b173-85be28c50d55",
   "metadata": {},
   "outputs": [],
   "source": [
    "class DynamicModel:\n",
    "    \n",
    "    def __init__(self, definition, initial_values=None):\n",
    "        self.symbolic_definition = definition\n",
    "        self.initial_values = initial_values\n",
    "        \n",
    "    @property\n",
    "    def differential(self):\n",
    "        return inverse_laplace_transform(self.symbolic_definition, s, t)\n"
   ]
  },
  {
   "cell_type": "code",
   "execution_count": 155,
   "id": "a6577b86-d318-425f-8935-a90798fc6b0d",
   "metadata": {},
   "outputs": [],
   "source": [
    "G = 5*(s+1)/((s+3)*(s+2))\n",
    "dynamic_model = DynamicModel(G)"
   ]
  },
  {
   "cell_type": "code",
   "execution_count": 176,
   "id": "084b7ee9-e740-4330-9594-523615146bb1",
   "metadata": {},
   "outputs": [],
   "source": [
    "import random\n",
    "from sympy.abc import s, t, y, x, y, z\n",
    "from sympy.integrals import laplace_transform\n",
    "from sympy.integrals import inverse_laplace_transform\n",
    "\n",
    "class DynamicProcess():\n",
    "    \n",
    "    def __init__(self, model, step_value, sim_step = 0.1):\n",
    "        self.step_value = step_value\n",
    "        self.model = model.symbolic_definition\n",
    "        self.sim_time = 0\n",
    "        self.step = sim_step\n",
    "        self.output = 0\n",
    "        self.U, self.u = self.create_input_process()\n",
    "        self.y = self.create_output_process()\n",
    "        \n",
    "    def change_input(self, step_value):\n",
    "        self.step_value = step_value\n",
    "        \n",
    "    def generate_inverse_laplace_inputs(self):\n",
    "        for U in self.U:\n",
    "            u1 = inverse_laplace_transform(U1, s, t)\n",
    "            \n",
    "    def generate_time_series(self, duration, n_steps, new_inputs=False):\n",
    "        ts = np.linspace(0,duration,n_steps)\n",
    "        us = np.zeros(len(ts))\n",
    "        ys = np.zeros(len(ts))\n",
    "        \n",
    "        if new_inputs:\n",
    "            self.U, self.u = self.create_input_process()\n",
    "            self.y = self.create_output_process()\n",
    "        \n",
    "        for u in self.u:\n",
    "            for i in range(len(ts)):\n",
    "                us[i] += u.subs(t, ts[i])\n",
    "\n",
    "        for y in self.y:\n",
    "            for i in range(len(ts)):\n",
    "                ys[i] += y.subs(t, ts[i])\n",
    "\n",
    "        return ts, us, ys\n",
    "        \n",
    "    def create_output_process(self):\n",
    "        y = []\n",
    "        for U in self.U:\n",
    "            print(U, self.model)\n",
    "            sub = self.model * U\n",
    "            y.append(inverse_laplace_transform(sub, s, t))\n",
    "        return y\n",
    "        \n",
    "    def create_input_process(self, segments=5):\n",
    "        from sympy.abc import s, t, y, x, y, z\n",
    "        U, u = [], []\n",
    "        \n",
    "        for i in range(segments):\n",
    "            k = random.randint(-10, 10)\n",
    "            delay = round(random.uniform(-10, 0), 2)\n",
    "            U_symbolic = k/s*sym.exp(delay*s)\n",
    "            U.append(U_symbolic)\n",
    "            u.append(inverse_laplace_transform(U_symbolic, s, t))\n",
    "            \n",
    "        return U, u\n",
    "        \n",
    "    def output_value(self):\n",
    "        self.output = self.step_value * self.model.subs(t, self.sim_time)\n",
    "        # self.output += self.model.subs(t, self.sim_time)\n",
    "        self.sim_time += self.step\n",
    "        return self.output"
   ]
  },
  {
   "cell_type": "code",
   "execution_count": 177,
   "id": "34a5d2de-eec7-4956-9447-79d809fc3e6e",
   "metadata": {},
   "outputs": [
    {
     "name": "stdout",
     "output_type": "stream",
     "text": [
      "-5*exp(-3.0*s)/s (5*s + 5)/((s + 2)*(s + 3))\n",
      "-exp(-5.04*s)/s (5*s + 5)/((s + 2)*(s + 3))\n",
      "-8*exp(-6.37*s)/s (5*s + 5)/((s + 2)*(s + 3))\n",
      "8*exp(-0.85*s)/s (5*s + 5)/((s + 2)*(s + 3))\n",
      "-3*exp(-2.69*s)/s (5*s + 5)/((s + 2)*(s + 3))\n"
     ]
    },
    {
     "data": {
      "text/latex": [
       "$\\displaystyle \\frac{5 s + 5}{\\left(s + 2\\right) \\left(s + 3\\right)}$"
      ],
      "text/plain": [
       "(5*s + 5)/((s + 2)*(s + 3))"
      ]
     },
     "execution_count": 177,
     "metadata": {},
     "output_type": "execute_result"
    }
   ],
   "source": [
    "dynamic_process = DynamicProcess(dynamic_model, 100)\n",
    "dynamic_process.model"
   ]
  },
  {
   "cell_type": "code",
   "execution_count": 178,
   "id": "878aac69-23bf-4968-acf5-a1a03624b240",
   "metadata": {},
   "outputs": [
    {
     "name": "stdout",
     "output_type": "stream",
     "text": [
      "-4*exp(-2.85*s)/s (5*s + 5)/((s + 2)*(s + 3))\n",
      "-5*exp(-6.98*s)/s (5*s + 5)/((s + 2)*(s + 3))\n",
      "4*exp(-8.79*s)/s (5*s + 5)/((s + 2)*(s + 3))\n",
      "2*exp(-9.42*s)/s (5*s + 5)/((s + 2)*(s + 3))\n",
      "3*exp(-0.45*s)/s (5*s + 5)/((s + 2)*(s + 3))\n"
     ]
    },
    {
     "data": {
      "image/png": "[encoded data removed]",
      "text/plain": [
       "<Figure size 640x480 with 1 Axes>"
      ]
     },
     "metadata": {},
     "output_type": "display_data"
    }
   ],
   "source": [
    "t, u, y = dynamic_process.generate_time_series(10, 1000, new_inputs=True)\n",
    "plt.figure()\n",
    "plt.plot(t, u)\n",
    "plt.plot(t, y)\n",
    "plt.show()"
   ]
  }
 ],
 "metadata": {
  "kernelspec": {
   "display_name": ".env",
   "language": "python",
   "name": ".env"
  },
  "language_info": {
   "codemirror_mode": {
    "name": "ipython",
    "version": 3
   },
   "file_extension": ".py",
   "mimetype": "text/x-python",
   "name": "python",
   "nbconvert_exporter": "python",
   "pygments_lexer": "ipython3",
   "version": "3.8.10"
  }
 },
 "nbformat": 4,
 "nbformat_minor": 5
}
